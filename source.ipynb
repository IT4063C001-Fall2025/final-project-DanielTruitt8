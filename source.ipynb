{
 "cells": [
  {
   "attachments": {},
   "cell_type": "markdown",
   "metadata": {},
   "source": [
    "# {Project Title}📝\n",
    "\n",
    "![Banner](./assets/banner.jpeg)"
   ]
  },
  {
   "attachments": {},
   "cell_type": "markdown",
   "metadata": {},
   "source": [
    "## Topic\n",
    "*What problem are you (or your stakeholder) trying to address?*\n",
    "📝 <!-- Answer Below -->\n",
    "\n",
    "What makes certain golf courses more popular and attractive to golfers?"
   ]
  },
  {
   "attachments": {},
   "cell_type": "markdown",
   "metadata": {},
   "source": [
    "## Project Question\n",
    "*What specific question are you seeking to answer with this project?*\n",
    "*This is not the same as the questions you ask to limit the scope of the project.*\n",
    "📝 <!-- Answer Below -->\n",
    "\n",
    "*How do features and amenities affect the popularity of a course?*\n",
    "##\n",
    "*How do factors like weather, climate, seasons, etc. affect golf play and availbility across different regions?*\n",
    "##\n",
    "*Is there a correlation between the cost of play and popularity of a golf course?*"
   ]
  },
  {
   "attachments": {},
   "cell_type": "markdown",
   "metadata": {},
   "source": [
    "## What would an answer look like?\n",
    "*What is your hypothesized answer to your question?*\n",
    "📝 <!-- Answer Below -->\n",
    "##\n",
    "Possibly a scatter chart to show correlation between cost and popularity, difficulty and popularity, and maybe even features/amenities and popularity.\n",
    "##\n",
    "A bar chart or line chart to show how frequently courses are played throughout the seasons and climate.\n",
    "##\n",
    "Once I've gotten these visuals I will be able to make proper statements about what affects the popularity of a golf course. And those statements will be backed by data."
   ]
  },
  {
   "cell_type": "code",
   "execution_count": null,
   "metadata": {},
   "outputs": [],
   "source": []
  },
  {
   "attachments": {},
   "cell_type": "markdown",
   "metadata": {},
   "source": [
    "## Data Sources\n",
    "*What 3 data sources have you identified for this project?*\n",
    "*How are you going to relate these datasets?*\n",
    "📝 <!-- Answer Below -->\n",
    "1. Golf Course Finder API: https://rapidapi.com/golfambit-golfambit-default/api/golf-course-finder\n",
    "2. Golf Course API: https://rapidapi.com/foshesco-65zCww9c1y0/api/golf-course-api\n",
    "3. Golf Play Dataset Extended: https://www.kaggle.com/datasets/samybaladram/golf-play-extended\n",
    "\n",
    "##\n",
    "\n",
    "I will relate these datasets by course name and location (state, city, zip code, etc.).\n",
    "##\n",
    "I will rely on the APIs for features and the Kaggle dataset for external factors like weather, seasons, culture, etc."
   ]
  },
  {
   "attachments": {},
   "cell_type": "markdown",
   "metadata": {},
   "source": [
    "## Approach and Analysis\n",
    "*What is your approach to answering your project question?*\n",
    "##\n",
    "My approach will be to explore the datasets and then pull what data will be important to each question. I will connect and use the data from each dataset together. I can also sort and group the data\n",
    "##\n",
    "*How will you use the identified data to answer your project question?*\n",
    "##\n",
    "By making correlations through stats and showing that through visualizations\n",
    "##\n",
    "📝 <!-- Start Discussing the project here; you can add as many code cells as you need -->\n"
   ]
  },
  {
   "cell_type": "code",
   "execution_count": 1,
   "metadata": {},
   "outputs": [],
   "source": [
    "# Start your code here"
   ]
  },
  {
   "attachments": {},
   "cell_type": "markdown",
   "metadata": {},
   "source": [
    "## Resources and References\n",
    "*What resources and references have you used for this project?*\n",
    "📝 <!-- Answer Below -->"
   ]
  },
  {
   "cell_type": "code",
   "execution_count": 2,
   "metadata": {},
   "outputs": [
    {
     "name": "stdout",
     "output_type": "stream",
     "text": [
      "[NbConvertApp] Converting notebook source.ipynb to python\n",
      "[NbConvertApp] Writing 1271 bytes to source.py\n"
     ]
    }
   ],
   "source": [
    "# ⚠️ Make sure you run this cell at the end of your notebook before every submission!\n",
    "!jupyter nbconvert --to python source.ipynb"
   ]
  }
 ],
 "metadata": {
  "kernelspec": {
   "display_name": "Final-Project-Template-unx06iZ2",
   "language": "python",
   "name": "python3"
  },
  "language_info": {
   "codemirror_mode": {
    "name": "ipython",
    "version": 3
   },
   "file_extension": ".py",
   "mimetype": "text/x-python",
   "name": "python",
   "nbconvert_exporter": "python",
   "pygments_lexer": "ipython3",
   "version": "3.11.1"
  },
  "orig_nbformat": 4,
  "vscode": {
   "interpreter": {
    "hash": "8f59090b806211711d8ea6da25ee5b1ccb272a75a21b9536283520350d8dfda7"
   }
  }
 },
 "nbformat": 4,
 "nbformat_minor": 2
}
