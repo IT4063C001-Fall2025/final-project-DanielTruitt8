{
 "cells": [
  {
   "attachments": {},
   "cell_type": "markdown",
   "metadata": {},
   "source": [
    "# {Project Title}📝\n",
    "\n",
    "![Banner](./assets/banner.jpeg)"
   ]
  },
  {
   "attachments": {},
   "cell_type": "markdown",
   "metadata": {},
   "source": [
    "## Topic\n",
    "*What problem are you (or your stakeholder) trying to address?*\n",
    "📝 <!-- Answer Below -->\n",
    "\n",
    "What makes certain golf courses more popular and attractive to golfers?"
   ]
  },
  {
   "attachments": {},
   "cell_type": "markdown",
   "metadata": {},
   "source": [
    "## Project Question\n",
    "*What specific question are you seeking to answer with this project?*\n",
    "*This is not the same as the questions you ask to limit the scope of the project.*\n",
    "📝 <!-- Answer Below -->\n",
    "\n",
    "*How do features and amenities affect the popularity of a course?*\n",
    "##\n",
    "*How do factors like weather, climate, seasons, etc. affect golf play and availbility across different regions?*\n",
    "##\n",
    "*Is there a correlation between the cost of play and popularity of a golf course?*"
   ]
  },
  {
   "attachments": {},
   "cell_type": "markdown",
   "metadata": {},
   "source": [
    "## What would an answer look like?\n",
    "*What is your hypothesized answer to your question?*\n",
    "📝 <!-- Answer Below -->\n",
    "##\n",
    "Possibly a scatter chart to show correlation between cost and popularity, difficulty and popularity, and maybe even features/amenities and popularity.\n",
    "##\n",
    "A bar chart or line chart to show how frequently courses are played throughout the seasons and climate.\n",
    "##\n",
    "Once I've gotten these visuals I will be able to make proper statements about what affects the popularity of a golf course. And those statements will be backed by data."
   ]
  },
  {
   "cell_type": "code",
   "execution_count": null,
   "metadata": {},
   "outputs": [],
   "source": []
  },
  {
   "attachments": {},
   "cell_type": "markdown",
   "metadata": {},
   "source": [
    "## Data Sources\n",
    "*What 3 data sources have you identified for this project?*\n",
    "*How are you going to relate these datasets?*\n",
    "📝 <!-- Answer Below -->\n",
    "1. Golf Course Finder API: https://rapidapi.com/golfambit-golfambit-default/api/golf-course-finder\n",
    "2. Live Golf Tournament API: https://rapidapi.com/belchiorarkad-FqvHs2EDOtP/api/live-golf-data1\n",
    "3. Golf Play Dataset Extended: https://www.kaggle.com/datasets/samybaladram/golf-play-extended\n",
    "\n",
    "##\n",
    "\n",
    "I will relate these datasets by course name and location (state, city, zip code, etc.).\n",
    "##\n",
    "I will rely on the APIs for features and the Kaggle dataset for external factors like weather, seasons, culture, etc. I will use the live golf tournament API to judge how hard certain golf courses are. I had to switch from another golf API to the live tournament API because I had to put my card information in to use the other one."
   ]
  },
  {
   "attachments": {},
   "cell_type": "markdown",
   "metadata": {},
   "source": [
    "## Approach and Analysis\n",
    "*What is your approach to answering your project question?*\n",
    "##\n",
    "My approach will be to explore the datasets and then pull what data will be important to each question. I will connect and use the data from each dataset together. I can also sort and group the data\n",
    "##\n",
    "*How will you use the identified data to answer your project question?*\n",
    "##\n",
    "By making correlations through stats and showing that through visualizations\n",
    "##\n",
    "📝 <!-- Start Discussing the project here; you can add as many code cells as you need -->\n"
   ]
  },
  {
   "cell_type": "code",
   "execution_count": 26,
   "metadata": {},
   "outputs": [
    {
     "name": "stdout",
     "output_type": "stream",
     "text": [
      "[{'club_name': 'Pebble Beach Resorts', 'club_membership': 'Resort', 'number_of_holes': 27, 'address': '1700 17 Mile Drive', 'city': 'Pebble Beach', 'state': 'California', 'country': 'United States of America', 'postal_code': '93953', 'phone': '+1 (831) 622-8723', 'fax': '+1 (831) 622-8795', 'website': 'pebblebeach.com/golf/pebble-beach-golf-links', 'email_address': '', 'driving_range': True, 'putting_green': True, 'chipping_green': False, 'practice_bunker': False, 'motor_cart': True, 'pull_cart': True, 'golf_clubs_rental': True, 'club_fitting': False, 'pro_shop': False, 'golf_lessons': True, 'caddie_hire': False, 'restaurant': True, 'reception_hall': True, 'changing_room': True, 'lockers': False, 'lodging_on_site': True, 'latitude': 36.5696623, 'longitude': -121.9497552, 'place_id': 'ChIJYUuxSFbmjYAR14kcbsdLieM', 'golf_courses': [{'course_name': 'Pebble Beach', 'holes': 18, 'par': 72, 'course_type': 'Parkland', 'course_architect': 'Jack Neville/Douglas Grant/', 'open_date': None, 'guest_policy': 'Open', 'weekday_price': '535.00', 'weekend_price': '535.00', 'twilight_price': '535.00', 'fairway': 'Default Fairway Value', 'green': 'Default Green Value', 'currency': 'USD'}, {'course_name': 'Peter Hay Par 3', 'holes': 9, 'par': 27, 'course_type': 'Parkland', 'course_architect': 'Peter Hay', 'open_date': None, 'guest_policy': 'Open', 'weekday_price': '30.00', 'weekend_price': '30.00', 'twilight_price': '30.00', 'fairway': 'Default Fairway Value', 'green': 'Default Green Value', 'currency': 'USD'}]}, {'club_name': 'Spyglass Hill Golf Course', 'club_membership': 'Resort', 'number_of_holes': 18, 'address': '3206 Stevenson Drive', 'city': 'Pebble Beach', 'state': 'California', 'country': 'United States of America', 'postal_code': '93953', 'phone': '+1 (831) 625-8563', 'fax': '+1 (831) 622-1308', 'website': 'pebblebeach.com/golf/spyglass-hill-golf-course', 'email_address': '', 'driving_range': True, 'putting_green': True, 'chipping_green': True, 'practice_bunker': True, 'motor_cart': True, 'pull_cart': True, 'golf_clubs_rental': True, 'club_fitting': False, 'pro_shop': False, 'golf_lessons': True, 'caddie_hire': True, 'restaurant': True, 'reception_hall': True, 'changing_room': True, 'lockers': False, 'lodging_on_site': True, 'latitude': 36.58237, 'longitude': -121.9582204, 'place_id': 'ChIJ52BgeCLnjYARMD8PdzkAi4A', 'golf_courses': [{'course_name': 'Spyglass Hill', 'holes': 18, 'par': 72, 'course_type': 'Parkland', 'course_architect': 'Robert Trent Jones Sr.', 'open_date': None, 'guest_policy': 'Open', 'weekday_price': '395.00', 'weekend_price': '395.00', 'twilight_price': '225.00', 'fairway': 'Default Fairway Value', 'green': 'Default Green Value', 'currency': 'USD'}]}, {'club_name': 'Poppy Hills Golf Course', 'club_membership': 'Public', 'number_of_holes': 18, 'address': '3200 Lopez Road', 'city': 'Pebble Beach', 'state': 'California', 'country': 'United States of America', 'postal_code': '93953', 'phone': '+1 (831) 625-1513', 'fax': '+1 (831) 626-5421', 'website': 'poppyhillsgolf.com/', 'email_address': '', 'driving_range': True, 'putting_green': True, 'chipping_green': True, 'practice_bunker': True, 'motor_cart': False, 'pull_cart': True, 'golf_clubs_rental': True, 'club_fitting': True, 'pro_shop': True, 'golf_lessons': True, 'caddie_hire': True, 'restaurant': True, 'reception_hall': True, 'changing_room': False, 'lockers': False, 'lodging_on_site': False, 'latitude': 36.5822152, 'longitude': -121.9383339, 'place_id': 'ChIJG_O7n-bmjYARfBuSkLeDZEE', 'golf_courses': [{'course_name': 'Poppy Hills', 'holes': 18, 'par': 71, 'course_type': 'Parkland', 'course_architect': 'Robert Trent Jones Jr.', 'open_date': None, 'guest_policy': 'Open', 'weekday_price': '225.00', 'weekend_price': '225.00', 'twilight_price': '225.00', 'fairway': 'Default Fairway Value', 'green': 'Default Green Value', 'currency': 'USD'}]}, {'club_name': 'Cypress Point Club', 'club_membership': 'Private', 'number_of_holes': 18, 'address': '3150 17 Mile Drive', 'city': 'Pebble Beach', 'state': 'California', 'country': 'United States of America', 'postal_code': '93953', 'phone': '+1 (831) 624-2223', 'fax': '', 'website': 'montereypeninsulagolf.com/Cypress-Point-Club', 'email_address': 'Info@MontereyPeninsulaGolf.com', 'driving_range': True, 'putting_green': True, 'chipping_green': False, 'practice_bunker': False, 'motor_cart': False, 'pull_cart': True, 'golf_clubs_rental': True, 'club_fitting': True, 'pro_shop': True, 'golf_lessons': True, 'caddie_hire': False, 'restaurant': True, 'reception_hall': True, 'changing_room': True, 'lockers': True, 'lodging_on_site': False, 'latitude': 36.579834, 'longitude': -121.974749, 'place_id': 'ChIJ2TGzAxXnjYAR2OyxYHT7j4s', 'golf_courses': [{'course_name': 'Cypress Point', 'holes': 18, 'par': 72, 'course_type': 'Parkland', 'course_architect': 'Alister Mackenzie', 'open_date': None, 'guest_policy': 'Closed', 'weekday_price': '0.00', 'weekend_price': '0.00', 'twilight_price': '0.00', 'fairway': 'Default Fairway Value', 'green': 'Default Green Value', 'currency': 'USD'}]}, {'club_name': 'Santa Lucia Preserve', 'club_membership': 'Private', 'number_of_holes': 18, 'address': '1 Rancho San Carlos Road', 'city': 'Carmel', 'state': 'California', 'country': 'United States of America', 'postal_code': '93923', 'phone': '+1 (831) 620-6873', 'fax': '', 'website': 'santaluciapreserve.com/golf', 'email_address': 'info@santaluciapreserve.com', 'driving_range': True, 'putting_green': True, 'chipping_green': False, 'practice_bunker': False, 'motor_cart': True, 'pull_cart': True, 'golf_clubs_rental': True, 'club_fitting': True, 'pro_shop': True, 'golf_lessons': True, 'caddie_hire': False, 'restaurant': True, 'reception_hall': True, 'changing_room': True, 'lockers': True, 'lodging_on_site': False, 'latitude': 36.5595272, 'longitude': -121.9216078, 'place_id': 'ChIJJyT8An7yjYARsXsHuq80zsw', 'golf_courses': [{'course_name': 'The Preserve', 'holes': 18, 'par': 72, 'course_type': 'Parkland', 'course_architect': 'Tom Fazio', 'open_date': None, 'guest_policy': 'Closed', 'weekday_price': '0.00', 'weekend_price': '0.00', 'twilight_price': '0.00', 'fairway': 'Default Fairway Value', 'green': 'Default Green Value', 'currency': 'USD'}]}, {'club_name': 'Monterey Peninsula Country Club', 'club_membership': 'Private', 'number_of_holes': 36, 'address': '3000 Club Road', 'city': 'Pebble Beach', 'state': 'California', 'country': 'United States of America', 'postal_code': '93953', 'phone': '+1 (831) 373-1556', 'fax': '', 'website': 'mpccpb.org', 'email_address': 'generalmanager@mpccpb.org', 'driving_range': True, 'putting_green': True, 'chipping_green': True, 'practice_bunker': True, 'motor_cart': False, 'pull_cart': True, 'golf_clubs_rental': True, 'club_fitting': True, 'pro_shop': True, 'golf_lessons': True, 'caddie_hire': False, 'restaurant': True, 'reception_hall': True, 'changing_room': True, 'lockers': True, 'lodging_on_site': False, 'latitude': 36.6050176, 'longitude': -121.9572651, 'place_id': 'ChIJ-YmHoinnjYARAV-AXVandM4', 'golf_courses': [{'course_name': 'Dunes', 'holes': 18, 'par': 72, 'course_type': 'Parkland', 'course_architect': 'Seth Raynor', 'open_date': None, 'guest_policy': 'Closed', 'weekday_price': '0.00', 'weekend_price': '0.00', 'twilight_price': '0.00', 'fairway': 'Default Fairway Value', 'green': 'Default Green Value', 'currency': 'USD'}, {'course_name': 'Shore', 'holes': 18, 'par': 72, 'course_type': 'Parkland', 'course_architect': 'Bob E. Baldock', 'open_date': None, 'guest_policy': 'Closed', 'weekday_price': '0.00', 'weekend_price': '0.00', 'twilight_price': '0.00', 'fairway': 'Default Fairway Value', 'green': 'Default Green Value', 'currency': 'USD'}]}, {'club_name': 'The Links at Spanish Bay', 'club_membership': 'Resort', 'number_of_holes': 18, 'address': '2700 17 Mile Drive', 'city': 'Pebble Beach', 'state': 'California', 'country': 'United States of America', 'postal_code': '93953', 'phone': '+1 (831) 647-7495', 'fax': '+1 (831) 644-7960', 'website': 'pebblebeach.com/golf/the-links-at-spanish-bay', 'email_address': '', 'driving_range': True, 'putting_green': True, 'chipping_green': True, 'practice_bunker': True, 'motor_cart': True, 'pull_cart': True, 'golf_clubs_rental': True, 'club_fitting': False, 'pro_shop': True, 'golf_lessons': True, 'caddie_hire': True, 'restaurant': True, 'reception_hall': True, 'changing_room': True, 'lockers': False, 'lodging_on_site': True, 'latitude': 36.6122481, 'longitude': -121.9429559, 'place_id': 'ChIJg5U6ZSzhjYARHidX-1d-rNY', 'golf_courses': [{'course_name': 'Spanish Bay', 'holes': 18, 'par': 72, 'course_type': 'Parkland', 'course_architect': 'Robert Trent Jones Jr./Sandy Tatum/Tom Watson', 'open_date': None, 'guest_policy': 'Open', 'weekday_price': '280.00', 'weekend_price': '280.00', 'twilight_price': '280.00', 'fairway': 'Default Fairway Value', 'green': 'Default Green Value', 'currency': 'USD'}]}, {'club_name': 'Pacific Grove Golf Links', 'club_membership': 'Private', 'number_of_holes': 18, 'address': '77 Asilomar Boulevard', 'city': 'Pacific Grove', 'state': 'California', 'country': 'United States of America', 'postal_code': '93950', 'phone': '+1 (831) 648-5775', 'fax': '+1 (831) 648-5771', 'website': 'pggolflinks.com', 'email_address': '', 'driving_range': True, 'putting_green': True, 'chipping_green': False, 'practice_bunker': False, 'motor_cart': False, 'pull_cart': True, 'golf_clubs_rental': True, 'club_fitting': False, 'pro_shop': True, 'golf_lessons': True, 'caddie_hire': False, 'restaurant': True, 'reception_hall': True, 'changing_room': True, 'lockers': True, 'lodging_on_site': False, 'latitude': 36.6334669, 'longitude': -121.9317116, 'place_id': 'ChIJocVOOT7hjYAR6lF_QbxQjgc', 'golf_courses': [{'course_name': 'Pacific Grove', 'holes': 18, 'par': 70, 'course_type': 'Parkland', 'course_architect': 'H. Chandler Egan/Jack Neville', 'open_date': None, 'guest_policy': 'Closed', 'weekday_price': '0.00', 'weekend_price': '0.00', 'twilight_price': '0.00', 'fairway': 'Default Fairway Value', 'green': 'Default Green Value', 'currency': 'USD'}]}, {'club_name': 'Del Monte Golf Course', 'club_membership': 'Resort', 'number_of_holes': 18, 'address': '1300 Sylvan Road', 'city': 'Monterey', 'state': 'California', 'country': 'United States of America', 'postal_code': '93940', 'phone': '+1 (831) 373-2700', 'fax': '+1 (831) 655-8792', 'website': 'pebblebeach.com/golf/del-monte-golf-course', 'email_address': '', 'driving_range': True, 'putting_green': True, 'chipping_green': False, 'practice_bunker': False, 'motor_cart': True, 'pull_cart': True, 'golf_clubs_rental': True, 'club_fitting': True, 'pro_shop': True, 'golf_lessons': True, 'caddie_hire': False, 'restaurant': True, 'reception_hall': True, 'changing_room': True, 'lockers': False, 'lodging_on_site': True, 'latitude': 36.5925202, 'longitude': -121.8715459, 'place_id': 'ChIJAccS9LPljYARGHlFBvhlAWE', 'golf_courses': [{'course_name': 'Del Monte', 'holes': 18, 'par': 72, 'course_type': 'Parkland', 'course_architect': 'Charles Maud/Tom Bendelow', 'open_date': None, 'guest_policy': 'Open', 'weekday_price': '135.00', 'weekend_price': '135.00', 'twilight_price': '135.00', 'fairway': 'Default Fairway Value', 'green': 'Default Green Value', 'currency': 'USD'}]}, {'club_name': 'Monterey Pines Golf Course', 'club_membership': 'Military', 'number_of_holes': 18, 'address': '1250 Garden Road', 'city': 'Monterey', 'state': 'California', 'country': 'United States of America', 'postal_code': '93940', 'phone': '+1 (861) 656-2167', 'fax': '+1 (831) 656-7662', 'website': 'http://www.navymwrmonterey.com/programs/93132d75-8532-43e0-9127-839b85297cd3', 'email_address': 'Info@MontereyPeninsulaGolf.com', 'driving_range': True, 'putting_green': True, 'chipping_green': False, 'practice_bunker': False, 'motor_cart': False, 'pull_cart': True, 'golf_clubs_rental': True, 'club_fitting': False, 'pro_shop': False, 'golf_lessons': True, 'caddie_hire': False, 'restaurant': True, 'reception_hall': True, 'changing_room': True, 'lockers': False, 'lodging_on_site': False, 'latitude': 36.593504, 'longitude': -121.8658432, 'place_id': 'ChIJrXjUiKzljYARl4s0-IVVM1o', 'golf_courses': [{'course_name': 'Monterey Pines', 'holes': 18, 'par': 69, 'course_type': 'Parkland', 'course_architect': 'Kevin Tucker/Marc Messier/Robert Muir Graves', 'open_date': None, 'guest_policy': 'Open', 'weekday_price': '37.00', 'weekend_price': '37.00', 'twilight_price': '37.00', 'fairway': 'Default Fairway Value', 'green': 'Default Green Value', 'currency': 'USD'}]}, {'club_name': 'Quail Lodge Resort & Golf Club', 'club_membership': 'Resort', 'number_of_holes': 18, 'address': '8205 Valley Greens Drive', 'city': 'Carmel', 'state': 'California', 'country': 'United States of America', 'postal_code': '93923', 'phone': '+1 (831) 624-2888', 'fax': '+1 (831) 624-3726', 'website': 'quaillodge.com/', 'email_address': '', 'driving_range': True, 'putting_green': True, 'chipping_green': False, 'practice_bunker': False, 'motor_cart': False, 'pull_cart': True, 'golf_clubs_rental': True, 'club_fitting': False, 'pro_shop': False, 'golf_lessons': True, 'caddie_hire': False, 'restaurant': True, 'reception_hall': True, 'changing_room': False, 'lockers': False, 'lodging_on_site': True, 'latitude': 36.5323978, 'longitude': -121.851502, 'place_id': '', 'golf_courses': [{'course_name': 'Quail Lodge', 'holes': 18, 'par': 71, 'course_type': 'Parkland', 'course_architect': 'Robert Muir Graves/Todd Eckenrode/Kipp Schulties', 'open_date': None, 'guest_policy': 'Open', 'weekday_price': '175.00', 'weekend_price': '175.00', 'twilight_price': '175.00', 'fairway': 'Default Fairway Value', 'green': 'Default Green Value', 'currency': 'USD'}]}, {'club_name': 'Tehama Golf Club', 'club_membership': 'Private', 'number_of_holes': 18, 'address': '25000 Via Malpaso', 'city': 'Carmel Valley', 'state': 'California', 'country': 'United States of America', 'postal_code': '93923', 'phone': '+1 (831) 622-2223', 'fax': '', 'website': 'tehamagolfclub.com/', 'email_address': 'info@tehamagolfclub.com', 'driving_range': True, 'putting_green': True, 'chipping_green': True, 'practice_bunker': True, 'motor_cart': True, 'pull_cart': True, 'golf_clubs_rental': True, 'club_fitting': False, 'pro_shop': True, 'golf_lessons': True, 'caddie_hire': False, 'restaurant': True, 'reception_hall': True, 'changing_room': False, 'lockers': True, 'lodging_on_site': False, 'latitude': 36.5619936, 'longitude': -121.8328863, 'place_id': 'ChIJd8zp5vTvjYAR78gyNILvHdE', 'golf_courses': [{'course_name': 'Tehama', 'holes': 18, 'par': 72, 'course_type': 'Parkland', 'course_architect': 'Jay Morrish', 'open_date': None, 'guest_policy': 'Closed', 'weekday_price': '0.00', 'weekend_price': '0.00', 'twilight_price': '0.00', 'fairway': 'Default Fairway Value', 'green': 'Default Green Value', 'currency': 'USD'}]}, {'club_name': 'Bayonet/Black Horse Golf Course', 'club_membership': 'Semi-Private', 'number_of_holes': 36, 'address': 'One McClure Way', 'city': 'Seaside', 'state': 'California', 'country': 'United States of America', 'postal_code': '93955', 'phone': '+1 (831) 899-7271', 'fax': '+1 (831) 899-7169', 'website': 'bayonetblackhorse.com', 'email_address': 'pjones@bbhgolf.com', 'driving_range': True, 'putting_green': True, 'chipping_green': True, 'practice_bunker': True, 'motor_cart': True, 'pull_cart': True, 'golf_clubs_rental': True, 'club_fitting': True, 'pro_shop': False, 'golf_lessons': True, 'caddie_hire': False, 'restaurant': True, 'reception_hall': True, 'changing_room': True, 'lockers': False, 'lodging_on_site': False, 'latitude': 36.6299944, 'longitude': -121.8166484, 'place_id': 'ChIJI9RttrDkjYARU7VPnIY8EIk', 'golf_courses': [{'course_name': 'BlackHorse', 'holes': 18, 'par': 72, 'course_type': 'Parkland', 'course_architect': 'Chris Gray/Gene Bates', 'open_date': None, 'guest_policy': 'Open', 'weekday_price': '140.00', 'weekend_price': '140.00', 'twilight_price': '140.00', 'fairway': 'Default Fairway Value', 'green': 'Default Green Value', 'currency': 'USD'}, {'course_name': 'The Bayonet', 'holes': 18, 'par': 72, 'course_type': 'Parkland', 'course_architect': 'Gene Bates', 'open_date': None, 'guest_policy': 'Open', 'weekday_price': '140.00', 'weekend_price': '140.00', 'twilight_price': '140.00', 'fairway': 'Default Fairway Value', 'green': 'Default Green Value', 'currency': 'USD'}]}, {'club_name': 'Laguna Seca Golf Club', 'club_membership': 'Public', 'number_of_holes': 18, 'address': '10520 York Road', 'city': 'Monterey', 'state': 'California', 'country': 'United States of America', 'postal_code': '93940', 'phone': '+1 (831) 373-3701', 'fax': '+1 (831) 373-3899', 'website': 'lagunasecagolf.com/', 'email_address': 'info@lagunasecagolf.com', 'driving_range': True, 'putting_green': True, 'chipping_green': True, 'practice_bunker': True, 'motor_cart': True, 'pull_cart': True, 'golf_clubs_rental': True, 'club_fitting': False, 'pro_shop': True, 'golf_lessons': True, 'caddie_hire': False, 'restaurant': True, 'reception_hall': True, 'changing_room': True, 'lockers': False, 'lodging_on_site': False, 'latitude': 36.572833, 'longitude': -121.788141, 'place_id': 'ChIJQ-CiNQvwjYARrjcPK8ruk5E', 'golf_courses': [{'course_name': 'Laguna Seca', 'holes': 18, 'par': 71, 'course_type': 'Parkland', 'course_architect': 'Robert Trent Jones Sr. & Jr.', 'open_date': None, 'guest_policy': 'Open', 'weekday_price': '70.00', 'weekend_price': '70.00', 'twilight_price': '40.00', 'fairway': 'Default Fairway Value', 'green': 'Default Green Value', 'currency': 'USD'}]}, {'club_name': 'Carmel Valley Ranch Resort', 'club_membership': 'Resort', 'number_of_holes': 18, 'address': 'One Old Ranch Road', 'city': 'Carmel', 'state': 'California', 'country': 'United States of America', 'postal_code': '93923', 'phone': '+1 (866) 405-5037', 'fax': '', 'website': 'carmelvalleyranch.com/', 'email_address': 'tsouthard@carmelvalleyranch.com', 'driving_range': True, 'putting_green': True, 'chipping_green': True, 'practice_bunker': True, 'motor_cart': True, 'pull_cart': True, 'golf_clubs_rental': True, 'club_fitting': False, 'pro_shop': False, 'golf_lessons': True, 'caddie_hire': False, 'restaurant': True, 'reception_hall': True, 'changing_room': False, 'lockers': False, 'lodging_on_site': True, 'latitude': 36.5157518, 'longitude': -121.7993878, 'place_id': 'ChIJX2-P59zxjYAR-SNVkNFbYlY', 'golf_courses': [{'course_name': 'Carmel Valley Ranch', 'holes': 18, 'par': 70, 'course_type': 'Parkland', 'course_architect': 'Pete Dye', 'open_date': None, 'guest_policy': 'Open', 'weekday_price': '160.00', 'weekend_price': '160.00', 'twilight_price': '160.00', 'fairway': 'Default Fairway Value', 'green': 'Default Green Value', 'currency': 'USD'}]}, {'club_name': 'Nicklaus Club - Monterey', 'club_membership': 'Private', 'number_of_holes': 18, 'address': '100 Pasadera Drive', 'city': 'Monterey', 'state': 'California', 'country': 'United States of America', 'postal_code': '93940', 'phone': '+1 (831) 647-2421', 'fax': '+1 (831) 372-4486', 'website': 'www.ncmonterey.com', 'email_address': 'kwayman@ncmonterey.com', 'driving_range': True, 'putting_green': True, 'chipping_green': False, 'practice_bunker': False, 'motor_cart': False, 'pull_cart': True, 'golf_clubs_rental': True, 'club_fitting': True, 'pro_shop': True, 'golf_lessons': True, 'caddie_hire': False, 'restaurant': True, 'reception_hall': True, 'changing_room': False, 'lockers': True, 'lodging_on_site': False, 'latitude': 36.5737426, 'longitude': -121.7736378, 'place_id': 'ChIJq695tnvwjYARDS07WDy73x4', 'golf_courses': [{'course_name': 'Nicklaus Club-Monterey', 'holes': 18, 'par': 71, 'course_type': 'Parkland', 'course_architect': 'Jack Nicklaus', 'open_date': None, 'guest_policy': 'Closed', 'weekday_price': '0.00', 'weekend_price': '0.00', 'twilight_price': '0.00', 'fairway': 'Default Fairway Value', 'green': 'Default Green Value', 'currency': 'USD'}]}]\n",
      "{'player_info': {'id': '9478', 'uid': 's:1100~a:9478', 'guid': '38cbeebe-aac8-fb36-dce0-cf45436086e4', 'alternateIds': {'sdr': '3104575'}, 'firstName': 'Scottie', 'middleName': 'Alexander', 'lastName': 'Scheffler', 'fullName': 'Scottie Scheffler', 'displayName': 'Scottie Scheffler', 'shortName': 'S. Scheffler', 'weight': 200, 'displayWeight': '200 lbs', 'height': 75, 'displayHeight': '6\\' 3\"', 'age': 29, 'dateOfBirth': '1996-06-21T07:00Z', 'debutYear': 2014, 'turnedPro': 2018, 'amateur': '', 'gender': 'MALE', 'link': 'https://www.espn.com/golf/player/_/id/9478/scottie-scheffler', 'birthPlace': {'city': 'Dallas', 'state': 'Texas                    ', 'stateAbbreviation': 'TX', 'country': 'United States', 'countryAbbreviation': 'usa'}, 'citizenship': 'United States', 'citizenshipCountry': {'country': {'alternateId': '1', 'abbreviation': 'usa'}, 'flag': 'https://a.espncdn.com/i/teamlogos/countries/500/usa.png'}, 'birthCountry': {'alternateId': '1', 'abbreviation': 'usa'}, 'slug': 'scottie-scheffler', 'headshot': {'href': 'https://a.espncdn.com/i/headshots/golf/players/full/9478.png', 'alt': 'Scottie Scheffler'}, 'hand': {'type': 'RIGHT', 'abbreviation': 'R', 'displayValue': 'Right'}, 'linked': True, 'status': {'id': '1', 'name': 'Active', 'type': 'active', 'abbreviation': 'Active'}}}\n"
     ]
    }
   ],
   "source": [
    "# Start your code here\n",
    "import pandas as pd\n",
    "import numpy as np\n",
    "import requests\n",
    "\n",
    "#Kaggle Golf Dataset\n",
    "golf_kaggle = pd.read_csv(\"golf_dataset_long_format_with_text.csv\")\n",
    "\n",
    "golf_kaggle.head()\n",
    "\n",
    "\n",
    "#Golf Course Finder API dataset\n",
    "CourseFinder = \"https://golf-course-finder.p.rapidapi.com/api/golf-clubs/\"\n",
    "\n",
    "querystring = {\"miles\":\"10\",\"latitude\":\"36.56910381018662\",\"longitude\":\"-121.95035631683683\"}\n",
    "\n",
    "headers = {\n",
    "\t\"x-rapidapi-key\": \"d19b74c0c0mshefccb95936bba47p1628c6jsnde9cbe391f38\",\n",
    "\t\"x-rapidapi-host\": \"golf-course-finder.p.rapidapi.com\"\n",
    "}\n",
    "\n",
    "response = requests.get(CourseFinder, headers=headers, params=querystring)\n",
    "\n",
    "print(response.json())\n",
    "\n",
    "#Live Tournament Scores API dataset\n",
    "GolfTournament = \"https://live-golf-data1.p.rapidapi.com/player-info\"\n",
    "\n",
    "querystring = {\"playerId\":\"9478\"}\n",
    "\n",
    "headers = {\n",
    "\t\"x-rapidapi-key\": \"d19b74c0c0mshefccb95936bba47p1628c6jsnde9cbe391f38\",\n",
    "\t\"x-rapidapi-host\": \"live-golf-data1.p.rapidapi.com\"\n",
    "}\n",
    "\n",
    "response = requests.get(GolfTournament, headers=headers, params=querystring)\n",
    "\n",
    "print(response.json())"
   ]
  },
  {
   "attachments": {},
   "cell_type": "markdown",
   "metadata": {},
   "source": [
    "## Resources and References\n",
    "*What resources and references have you used for this project?*\n",
    "📝 <!-- Answer Below -->"
   ]
  },
  {
   "cell_type": "code",
   "execution_count": 1,
   "metadata": {},
   "outputs": [
    {
     "name": "stderr",
     "output_type": "stream",
     "text": [
      "[NbConvertApp] Converting notebook source.ipynb to python\n",
      "[NbConvertApp] Writing 4119 bytes to source.py\n"
     ]
    }
   ],
   "source": [
    "# ⚠️ Make sure you run this cell at the end of your notebook before every submission!\n",
    "!jupyter nbconvert --to python source.ipynb"
   ]
  }
 ],
 "metadata": {
  "kernelspec": {
   "display_name": "Python 3",
   "language": "python",
   "name": "python3"
  },
  "language_info": {
   "codemirror_mode": {
    "name": "ipython",
    "version": 3
   },
   "file_extension": ".py",
   "mimetype": "text/x-python",
   "name": "python",
   "nbconvert_exporter": "python",
   "pygments_lexer": "ipython3",
   "version": "3.13.7"
  },
  "orig_nbformat": 4
 },
 "nbformat": 4,
 "nbformat_minor": 2
}
